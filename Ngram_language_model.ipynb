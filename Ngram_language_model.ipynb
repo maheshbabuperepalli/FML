{
  "nbformat": 4,
  "nbformat_minor": 0,
  "metadata": {
    "colab": {
      "provenance": [],
      "authorship_tag": "ABX9TyMK6Xosqr8FGZgiINp98lEu",
      "include_colab_link": true
    },
    "kernelspec": {
      "name": "python3",
      "display_name": "Python 3"
    },
    "language_info": {
      "name": "python"
    }
  },
  "cells": [
    {
      "cell_type": "markdown",
      "metadata": {
        "id": "view-in-github",
        "colab_type": "text"
      },
      "source": [
        "<a href=\"https://colab.research.google.com/github/maheshbabuperepalli/FML/blob/main/Ngram_language_model.ipynb\" target=\"_parent\"><img src=\"https://colab.research.google.com/assets/colab-badge.svg\" alt=\"Open In Colab\"/></a>"
      ]
    },
    {
      "cell_type": "code",
      "execution_count": 3,
      "metadata": {
        "id": "iavUDI6l6tvq"
      },
      "outputs": [],
      "source": [
        "from nltk.corpus import reuters\n",
        "from nltk import bigrams,trigrams\n",
        "from collections import Counter,defaultdict"
      ]
    },
    {
      "cell_type": "code",
      "source": [
        "import nltk\n",
        "nltk.download('reuters')\n",
        "nltk.download('punkt')"
      ],
      "metadata": {
        "colab": {
          "base_uri": "https://localhost:8080/"
        },
        "id": "4fKeDZSxHBh7",
        "outputId": "9642a770-0a7d-4bd0-ffd0-ec3c8733b9ad"
      },
      "execution_count": 9,
      "outputs": [
        {
          "output_type": "stream",
          "name": "stderr",
          "text": [
            "[nltk_data] Downloading package reuters to /root/nltk_data...\n",
            "[nltk_data] Downloading package punkt to /root/nltk_data...\n",
            "[nltk_data]   Unzipping tokenizers/punkt.zip.\n"
          ]
        },
        {
          "output_type": "execute_result",
          "data": {
            "text/plain": [
              "True"
            ]
          },
          "metadata": {},
          "execution_count": 9
        }
      ]
    },
    {
      "cell_type": "code",
      "source": [
        "model=defaultdict(lambda:defaultdict(lambda:0))"
      ],
      "metadata": {
        "id": "9Td6sXVp8KAm"
      },
      "execution_count": 5,
      "outputs": []
    },
    {
      "cell_type": "code",
      "source": [
        "\n",
        "for sentence in reuters.sents():\n",
        "  for w1,w2,w3 in trigrams(sentence,pad_right=True,pad_left=True):\n",
        "    model[(w1,w2)][w3]+=1"
      ],
      "metadata": {
        "id": "g9Vz2W4D81Ts"
      },
      "execution_count": 12,
      "outputs": []
    },
    {
      "cell_type": "code",
      "source": [
        "for w1_w2 in model:\n",
        "  total_count=float(sum(model[w1_w2].values()))\n",
        "  for w3 in model[w1_w2]:\n",
        "    model[w1_w2][w3]/=total_count"
      ],
      "metadata": {
        "id": "VIj14_RKHNuY"
      },
      "execution_count": 11,
      "outputs": []
    }
  ]
}