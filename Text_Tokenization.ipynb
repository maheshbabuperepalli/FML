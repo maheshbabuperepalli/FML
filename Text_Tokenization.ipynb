{
  "nbformat": 4,
  "nbformat_minor": 0,
  "metadata": {
    "colab": {
      "provenance": [],
      "authorship_tag": "ABX9TyNnMUIElv29V5DHa89vtDYl",
      "include_colab_link": true
    },
    "kernelspec": {
      "name": "python3",
      "display_name": "Python 3"
    },
    "language_info": {
      "name": "python"
    }
  },
  "cells": [
    {
      "cell_type": "markdown",
      "metadata": {
        "id": "view-in-github",
        "colab_type": "text"
      },
      "source": [
        "<a href=\"https://colab.research.google.com/github/maheshbabuperepalli/FML/blob/main/Text_Tokenization.ipynb\" target=\"_parent\"><img src=\"https://colab.research.google.com/assets/colab-badge.svg\" alt=\"Open In Colab\"/></a>"
      ]
    },
    {
      "cell_type": "code",
      "execution_count": 7,
      "metadata": {
        "colab": {
          "base_uri": "https://localhost:8080/"
        },
        "id": "fcIPjUDkFGvg",
        "outputId": "5a428830-85df-4823-9928-99f06dc1b4e8"
      },
      "outputs": [
        {
          "output_type": "stream",
          "name": "stdout",
          "text": [
            "['The', 'sun', 'is', 'a', 'huge', 'ball', 'of', 'gases.', 'It', 'has', 'a', 'diameter', 'of', '1,392,000', 'km.', 'It', 'is', 'so', 'huge', 'that', 'it', 'can', 'hold', 'millions', 'of', 'planets', 'inside', 'it.', 'The', 'Sun', 'is', 'mainly', 'made', 'up', 'of', 'hydrogen', 'and', 'helium', 'gas.', 'The', 'surface', 'of', 'the', 'Sun', 'is', 'known', 'as', 'the', 'photosphere.', 'The', 'photosphere', 'is', 'surrounded', 'by', 'a', 'thin', 'layer', 'of', 'gas', 'known', 'as', 'the', 'chromospheres.', 'Without', 'the', 'Sun,', 'there', 'would', 'be', 'no', 'life', 'on', 'Earth.', 'There', 'would', 'be', 'no', 'plants,', 'no', 'animals', 'and', 'no', 'human', 'beings.']\n",
            "No.of tokens :  84\n"
          ]
        }
      ],
      "source": [
        "epl=\"\"\"The sun is a huge ball of gases. It has a diameter of 1,392,000 km. It is so huge that it can hold millions of planets inside it. The Sun is mainly made up of hydrogen and helium gas. The surface of the Sun is known as the photosphere. The photosphere is surrounded by a thin layer of gas known as the chromospheres. Without the Sun, there would be no life on Earth. There would be no plants, no animals and no human beings.\"\"\"\n",
        "tokens=epl.split()\n",
        "print(tokens)\n",
        "print(\"No.of tokens : \", len(tokens))"
      ]
    },
    {
      "cell_type": "code",
      "source": [
        "sentences = epl.split('.')\n",
        "print(sentences)\n",
        "print(\"No.of sentences : \", len(sentences))"
      ],
      "metadata": {
        "colab": {
          "base_uri": "https://localhost:8080/"
        },
        "id": "tLLiddNtHfDf",
        "outputId": "1b39668f-0054-4e3d-9f28-f3495b4d12c5"
      },
      "execution_count": 11,
      "outputs": [
        {
          "output_type": "stream",
          "name": "stdout",
          "text": [
            "['The sun is a huge ball of gases', ' It has a diameter of 1,392,000 km', ' It is so huge that it can hold millions of planets inside it', ' The Sun is mainly made up of hydrogen and helium gas', ' The surface of the Sun is known as the photosphere', ' The photosphere is surrounded by a thin layer of gas known as the chromospheres', ' Without the Sun, there would be no life on Earth', ' There would be no plants, no animals and no human beings', '']\n",
            "No.of sentences :  9\n"
          ]
        }
      ]
    },
    {
      "cell_type": "markdown",
      "source": [
        "Tokenization using Regular Expressions "
      ],
      "metadata": {
        "id": "c8yjOt4QJsxy"
      }
    },
    {
      "cell_type": "code",
      "source": [
        "import re\n",
        "tokens = re.findall(\"[\\w']+\", epl)\n",
        "print(tokens)\n",
        "print(\"No.of tokens : \", len(tokens))"
      ],
      "metadata": {
        "colab": {
          "base_uri": "https://localhost:8080/"
        },
        "id": "PKWqOUZEIrYl",
        "outputId": "e9f5738f-b5ca-4ee4-f0a8-fbaf6d1314ce"
      },
      "execution_count": 14,
      "outputs": [
        {
          "output_type": "stream",
          "name": "stdout",
          "text": [
            "['The', 'sun', 'is', 'a', 'huge', 'ball', 'of', 'gases', 'It', 'has', 'a', 'diameter', 'of', '1', '392', '000', 'km', 'It', 'is', 'so', 'huge', 'that', 'it', 'can', 'hold', 'millions', 'of', 'planets', 'inside', 'it', 'The', 'Sun', 'is', 'mainly', 'made', 'up', 'of', 'hydrogen', 'and', 'helium', 'gas', 'The', 'surface', 'of', 'the', 'Sun', 'is', 'known', 'as', 'the', 'photosphere', 'The', 'photosphere', 'is', 'surrounded', 'by', 'a', 'thin', 'layer', 'of', 'gas', 'known', 'as', 'the', 'chromospheres', 'Without', 'the', 'Sun', 'there', 'would', 'be', 'no', 'life', 'on', 'Earth', 'There', 'would', 'be', 'no', 'plants', 'no', 'animals', 'and', 'no', 'human', 'beings']\n",
            "No.of tokens :  86\n"
          ]
        }
      ]
    },
    {
      "cell_type": "code",
      "source": [
        "sentences = re.compile('[.?!] ').split(epl)\n",
        "print(sentences)\n",
        "print(\"No.of sentences : \", len(sentences))"
      ],
      "metadata": {
        "colab": {
          "base_uri": "https://localhost:8080/"
        },
        "id": "rC5UrkBuI20J",
        "outputId": "5d652b24-33cb-4cea-9922-21579445d6b7"
      },
      "execution_count": 16,
      "outputs": [
        {
          "output_type": "stream",
          "name": "stdout",
          "text": [
            "['The sun is a huge ball of gases', 'It has a diameter of 1,392,000 km', 'It is so huge that it can hold millions of planets inside it', 'The Sun is mainly made up of hydrogen and helium gas', 'The surface of the Sun is known as the photosphere', 'The photosphere is surrounded by a thin layer of gas known as the chromospheres', 'Without the Sun, there would be no life on Earth', 'There would be no plants, no animals and no human beings.']\n",
            "No.of sentences :  8\n"
          ]
        }
      ]
    },
    {
      "cell_type": "markdown",
      "source": [
        "Tokenization using NLTK"
      ],
      "metadata": {
        "id": "eLknDi_gJvFp"
      }
    },
    {
      "cell_type": "code",
      "source": [
        "import nltk\n",
        "nltk.download('punkt')"
      ],
      "metadata": {
        "colab": {
          "base_uri": "https://localhost:8080/"
        },
        "id": "XgyaGuf0JyCy",
        "outputId": "c057aa88-ba76-497f-f70e-beb892b18568"
      },
      "execution_count": 17,
      "outputs": [
        {
          "output_type": "stream",
          "name": "stderr",
          "text": [
            "[nltk_data] Downloading package punkt to /root/nltk_data...\n",
            "[nltk_data]   Unzipping tokenizers/punkt.zip.\n"
          ]
        },
        {
          "output_type": "execute_result",
          "data": {
            "text/plain": [
              "True"
            ]
          },
          "metadata": {},
          "execution_count": 17
        }
      ]
    },
    {
      "cell_type": "code",
      "source": [
        "from nltk.tokenize import word_tokenize\n",
        "tokens = word_tokenize(epl)\n",
        "print(tokens)\n",
        "print(\"No.of tokens : \", len(tokens))"
      ],
      "metadata": {
        "colab": {
          "base_uri": "https://localhost:8080/"
        },
        "id": "7p-OClqbJ7qK",
        "outputId": "94ef5893-9927-433d-f742-fbf2c571a2d5"
      },
      "execution_count": 19,
      "outputs": [
        {
          "output_type": "stream",
          "name": "stdout",
          "text": [
            "['The', 'sun', 'is', 'a', 'huge', 'ball', 'of', 'gases', '.', 'It', 'has', 'a', 'diameter', 'of', '1,392,000', 'km', '.', 'It', 'is', 'so', 'huge', 'that', 'it', 'can', 'hold', 'millions', 'of', 'planets', 'inside', 'it', '.', 'The', 'Sun', 'is', 'mainly', 'made', 'up', 'of', 'hydrogen', 'and', 'helium', 'gas', '.', 'The', 'surface', 'of', 'the', 'Sun', 'is', 'known', 'as', 'the', 'photosphere', '.', 'The', 'photosphere', 'is', 'surrounded', 'by', 'a', 'thin', 'layer', 'of', 'gas', 'known', 'as', 'the', 'chromospheres', '.', 'Without', 'the', 'Sun', ',', 'there', 'would', 'be', 'no', 'life', 'on', 'Earth', '.', 'There', 'would', 'be', 'no', 'plants', ',', 'no', 'animals', 'and', 'no', 'human', 'beings', '.']\n",
            "No.of tokens :  94\n"
          ]
        }
      ]
    },
    {
      "cell_type": "code",
      "source": [
        "from nltk.tokenize import sent_tokenize\n",
        "sentences = sent_tokenize(epl)\n",
        "print(sentences)\n",
        "print(\"No.of sentences : \", len(sentences))"
      ],
      "metadata": {
        "colab": {
          "base_uri": "https://localhost:8080/"
        },
        "id": "dqC7RTayKOTq",
        "outputId": "73d821b0-ec80-4078-a334-74f488d90395"
      },
      "execution_count": 21,
      "outputs": [
        {
          "output_type": "stream",
          "name": "stdout",
          "text": [
            "['The sun is a huge ball of gases.', 'It has a diameter of 1,392,000 km.', 'It is so huge that it can hold millions of planets inside it.', 'The Sun is mainly made up of hydrogen and helium gas.', 'The surface of the Sun is known as the photosphere.', 'The photosphere is surrounded by a thin layer of gas known as the chromospheres.', 'Without the Sun, there would be no life on Earth.', 'There would be no plants, no animals and no human beings.']\n",
            "No.of sentences :  8\n"
          ]
        }
      ]
    }
  ]
}